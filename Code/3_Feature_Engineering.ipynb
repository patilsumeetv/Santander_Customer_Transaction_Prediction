{
 "cells": [
  {
   "cell_type": "markdown",
   "metadata": {},
   "source": [
    "# Feature Engineering"
   ]
  },
  {
   "cell_type": "code",
   "execution_count": 1,
   "metadata": {},
   "outputs": [],
   "source": [
    "import warnings\n",
    "import numpy as np\n",
    "import lightgbm as lgbm\n",
    "from process_functions import train_test_loader\n",
    "\n",
    "warnings.filterwarnings('ignore')"
   ]
  },
  {
   "cell_type": "code",
   "execution_count": 2,
   "metadata": {},
   "outputs": [
    {
     "name": "stdout",
     "output_type": "stream",
     "text": [
      "Training Size = (140000, 200)\n",
      "Testing Size = (60000, 200)\n",
      "No. of positive in training = 13964\n",
      "No. of positive in testing = 6134\n"
     ]
    }
   ],
   "source": [
    "train_features, train_target, test_features, test_target = train_test_loader('../Data/Feature_Engineering')\n",
    "\n",
    "print(\"Training Size = {}\".format(train_features.shape))\n",
    "print(\"Testing Size = {}\".format(test_features.shape))\n",
    "\n",
    "print(\"No. of positive in training = {}\".format(train_target.sum()[0]))\n",
    "print(\"No. of positive in testing = {}\".format(test_target.sum()[0]))"
   ]
  },
  {
   "cell_type": "markdown",
   "metadata": {},
   "source": [
    "### Preparing LightGBM data"
   ]
  },
  {
   "cell_type": "code",
   "execution_count": 3,
   "metadata": {},
   "outputs": [],
   "source": [
    "train_lgbm = lgbm.Dataset(data=train_features, label=train_target)\n",
    "test_lgbm = train_lgbm.create_valid(data=test_features, label=test_target)"
   ]
  },
  {
   "cell_type": "markdown",
   "metadata": {},
   "source": [
    "### Training Model"
   ]
  },
  {
   "cell_type": "code",
   "execution_count": 4,
   "metadata": {
    "scrolled": false
   },
   "outputs": [
    {
     "name": "stdout",
     "output_type": "stream",
     "text": [
      "Training until validation scores don't improve for 10000 rounds.\n",
      "[10000]\ttraining's auc: 0.909846\tvalid_1's auc: 0.895208\n",
      "[20000]\ttraining's auc: 0.921065\tvalid_1's auc: 0.899274\n",
      "[30000]\ttraining's auc: 0.929143\tvalid_1's auc: 0.899215\n",
      "Early stopping, best iteration is:\n",
      "[24685]\ttraining's auc: 0.925026\tvalid_1's auc: 0.899444\n"
     ]
    }
   ],
   "source": [
    "lgbm_parameter = {\n",
    "    'num_leaves' : 3,\n",
    "    'min_data_in_leaf' : 20,\n",
    "    'max_depth' : 16,\n",
    "    'bagging_fraction' : 0.4,\n",
    "    'bagging_freq' : 5,\n",
    "    'feature_fraction' : 0.1,\n",
    "    'learning_rate' : 0.01,\n",
    "    'boosting' : 'gbdt',\n",
    "    'random_state' : 0,\n",
    "    'num_boost_round' : 100000,\n",
    "    'objective' : 'binary',\n",
    "    'num_threads' : 3,\n",
    "    'boosting_from_average' : True,\n",
    "    'metric' : 'auc',\n",
    "}\n",
    "\n",
    "bst = lgbm.train(lgbm_parameter, train_set=train_lgbm, valid_sets=[train_lgbm, test_lgbm], \\\n",
    "                 verbose_eval=10000, early_stopping_rounds=10000)\n",
    "\n",
    "# cv_model = lgbm.cv(lgbm_parameter, train_set=cv_data, num_boost_round=100, nfold=10)"
   ]
  },
  {
   "cell_type": "markdown",
   "metadata": {},
   "source": [
    "##### Feature Importance"
   ]
  },
  {
   "cell_type": "code",
   "execution_count": 6,
   "metadata": {
    "scrolled": true
   },
   "outputs": [
    {
     "data": {
      "text/plain": [
       "<BarContainer object of 200 artists>"
      ]
     },
     "execution_count": 6,
     "metadata": {},
     "output_type": "execute_result"
    },
    {
     "data": {
      "image/png": "[encoded data removed]",
      "text/plain": [
       "<Figure size 432x288 with 1 Axes>"
      ]
     },
     "metadata": {
      "needs_background": "light"
     },
     "output_type": "display_data"
    }
   ],
   "source": [
    "import matplotlib.pyplot as plt\n",
    "\n",
    "feature_imp = bst.feature_importance(importance_type='gain')\n",
    "\n",
    "plt.figure()\n",
    "plt.bar(np.arange(200), np.sort(feature_imp)[::-1])"
   ]
  },
  {
   "cell_type": "code",
   "execution_count": 7,
   "metadata": {},
   "outputs": [
    {
     "name": "stdout",
     "output_type": "stream",
     "text": [
      "28445.825844287872\n",
      "(array([81], dtype=int64),)\n",
      "23279.03518295288\n",
      "(array([139], dtype=int64),)\n",
      "20987.721613883972\n",
      "(array([12], dtype=int64),)\n",
      "17709.876389980316\n",
      "(array([110], dtype=int64),)\n",
      "17617.167719841003\n",
      "(array([6], dtype=int64),)\n"
     ]
    }
   ],
   "source": [
    "for i in np.sort(feature_imp)[::-1][0:5]:\n",
    "    print(i)\n",
    "    print(np.where(feature_imp==i))"
   ]
  },
  {
   "cell_type": "markdown",
   "metadata": {},
   "source": [
    "## Adding more features"
   ]
  },
  {
   "cell_type": "code",
   "execution_count": 31,
   "metadata": {},
   "outputs": [
    {
     "name": "stdout",
     "output_type": "stream",
     "text": [
      "Training Features = (140000, 200)\n",
      "Testing Features = (60000, 200)\n"
     ]
    }
   ],
   "source": [
    "train_ft, train_tar, test_ft, test_tar = train_test_loader('../Data/Feature_Engineering')\n",
    "\n",
    "print(\"Training Features = {}\".format(train_ft.shape))\n",
    "print(\"Testing Features = {}\".format(test_ft.shape))"
   ]
  },
  {
   "cell_type": "markdown",
   "metadata": {},
   "source": [
    "#### Adding more features in training data"
   ]
  },
  {
   "cell_type": "code",
   "execution_count": 32,
   "metadata": {},
   "outputs": [],
   "source": [
    "# train_ft['var_200'] = train_ft.var_81 * train_ft.var_139\n",
    "# train_ft['var_201'] = train_ft.var_81 * train_ft.var_12\n",
    "# train_ft['var_202'] = train_ft.var_81 * train_ft.var_110\n",
    "# train_ft['var_203'] = train_ft.var_81 * train_ft.var_6"
   ]
  },
  {
   "cell_type": "markdown",
   "metadata": {},
   "source": [
    "#### Adding more features in testing data"
   ]
  },
  {
   "cell_type": "code",
   "execution_count": 33,
   "metadata": {},
   "outputs": [],
   "source": [
    "# test_ft['var_200'] = test_ft.var_81 * test_ft.var_139\n",
    "# test_ft['var_201'] = test_ft.var_81 * test_ft.var_12\n",
    "# test_ft['var_202'] = test_ft.var_81 * test_ft.var_110\n",
    "# test_ft['var_203'] = test_ft.var_81 * test_ft.var_6"
   ]
  },
  {
   "cell_type": "markdown",
   "metadata": {},
   "source": [
    "#### Deleting features from train and test data"
   ]
  },
  {
   "cell_type": "code",
   "execution_count": 37,
   "metadata": {},
   "outputs": [
    {
     "data": {
      "text/plain": [
       "(array([17], dtype=int64),)"
      ]
     },
     "execution_count": 37,
     "metadata": {},
     "output_type": "execute_result"
    }
   ],
   "source": [
    "np.where(feature_imp==np.sort(feature_imp)[0])"
   ]
  },
  {
   "cell_type": "code",
   "execution_count": 39,
   "metadata": {},
   "outputs": [],
   "source": [
    "train_ft = train_ft.drop(columns=['var_17'])\n",
    "test_ft = test_ft.drop(columns=['var_17'])"
   ]
  },
  {
   "cell_type": "code",
   "execution_count": 40,
   "metadata": {
    "scrolled": true
   },
   "outputs": [
    {
     "name": "stdout",
     "output_type": "stream",
     "text": [
      "Training Features = (140000, 199)\n",
      "Testing Features = (60000, 199)\n",
      "--------------------------------------------\n",
      "Training Target = (140000, 1)\n",
      "Testing Target = (60000, 1)\n"
     ]
    }
   ],
   "source": [
    "print(\"Training Features = {}\".format(train_ft.shape))\n",
    "print(\"Testing Features = {}\".format(test_ft.shape))\n",
    "print(\"--------------------------------------------\")\n",
    "print(\"Training Target = {}\".format(train_tar.shape))\n",
    "print(\"Testing Target = {}\".format(test_tar.shape))"
   ]
  },
  {
   "cell_type": "code",
   "execution_count": null,
   "metadata": {},
   "outputs": [],
   "source": []
  },
  {
   "cell_type": "markdown",
   "metadata": {},
   "source": [
    "### Preparing LightGBM data"
   ]
  },
  {
   "cell_type": "code",
   "execution_count": 41,
   "metadata": {},
   "outputs": [],
   "source": [
    "feature_train = lgbm.Dataset(data=train_ft, label=train_tar)\n",
    "feature_test = train_lgbm.create_valid(data=test_ft, label=test_tar)"
   ]
  },
  {
   "cell_type": "markdown",
   "metadata": {},
   "source": [
    "### Training Model"
   ]
  },
  {
   "cell_type": "code",
   "execution_count": 42,
   "metadata": {
    "scrolled": true
   },
   "outputs": [
    {
     "name": "stdout",
     "output_type": "stream",
     "text": [
      "Training until validation scores don't improve for 10000 rounds.\n",
      "[10000]\ttraining's auc: 0.909861\tvalid_1's auc: 0.894858\n",
      "[20000]\ttraining's auc: 0.920964\tvalid_1's auc: 0.899029\n",
      "[30000]\ttraining's auc: 0.928978\tvalid_1's auc: 0.899151\n",
      "Early stopping, best iteration is:\n",
      "[28881]\ttraining's auc: 0.928127\tvalid_1's auc: 0.899219\n"
     ]
    }
   ],
   "source": [
    "lgbm_parameter = {\n",
    "    'num_leaves' : 3,\n",
    "    'min_data_in_leaf' : 20,\n",
    "    'max_depth' : 16,\n",
    "    'bagging_fraction' : 0.4,\n",
    "    'bagging_freq' : 5,\n",
    "    'feature_fraction' : 0.1,\n",
    "    'learning_rate' : 0.01,\n",
    "    'boosting' : 'gbdt',\n",
    "    'random_state' : 0,\n",
    "    'num_boost_round' : 100000,\n",
    "    'objective' : 'binary',\n",
    "    'num_threads' : 3,\n",
    "    'boost_from_average' : True,\n",
    "    'metric' : 'auc',\n",
    "}\n",
    "\n",
    "ft_bst = lgbm.train(lgbm_parameter, train_set=feature_train, valid_sets=[feature_train, feature_test], \\\n",
    "                    verbose_eval=10000, early_stopping_rounds=10000)"
   ]
  },
  {
   "cell_type": "code",
   "execution_count": 14,
   "metadata": {},
   "outputs": [
    {
     "data": {
      "text/plain": [
       "(140000, 200)"
      ]
     },
     "execution_count": 14,
     "metadata": {},
     "output_type": "execute_result"
    }
   ],
   "source": [
    "train_features.shape"
   ]
  },
  {
   "cell_type": "code",
   "execution_count": null,
   "metadata": {},
   "outputs": [],
   "source": []
  }
 ],
 "metadata": {
  "kernelspec": {
   "display_name": "Python 3",
   "language": "python",
   "name": "python3"
  },
  "language_info": {
   "codemirror_mode": {
    "name": "ipython",
    "version": 3
   },
   "file_extension": ".py",
   "mimetype": "text/x-python",
   "name": "python",
   "nbconvert_exporter": "python",
   "pygments_lexer": "ipython3",
   "version": "3.7.2"
  }
 },
 "nbformat": 4,
 "nbformat_minor": 2
}
